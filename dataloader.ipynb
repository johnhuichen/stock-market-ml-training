{
 "cells": [
  {
   "cell_type": "code",
   "execution_count": 108,
   "id": "bcf6e515-0810-431f-90f2-bc794daf2aea",
   "metadata": {},
   "outputs": [],
   "source": [
    "import numpy\n",
    "\n",
    "from data_loader.future_net_income import FutureNetIncomeDataLoader\n",
    "from metrics.future_net_income import NetIncomeMetric\n",
    "from models.decision_tree import DecisionTree\n",
    "from models.random_forest import RandomForest\n",
    "from trainer.trainer import Trainer\n",
    "\n",
    "\n",
    "dataloader = FutureNetIncomeDataLoader()\n",
    "dataset_x, future_net_incomes = dataloader.get()\n",
    "\n",
    "# Predict if net income exceeds 10%\n",
    "threshold = 0.1\n",
    "dataset_y = (\n",
    "    future_net_incomes.loc[:, [FutureNetIncomeDataLoader.RETURN_FUTURE]] > threshold\n",
    ")\n",
    "\n",
    "model = DecisionTree()\n",
    "# model = RandomForest()\n",
    "\n",
    "trainer = Trainer(dataset_x, dataset_y)\n",
    "predictions, val_y = trainer.train(model)"
   ]
  },
  {
   "cell_type": "code",
   "execution_count": null,
   "id": "a0e9466b-0a78-4158-9b43-70bdadc5d694",
   "metadata": {},
   "outputs": [],
   "source": []
  },
  {
   "cell_type": "code",
   "execution_count": null,
   "id": "c202d0b2-d260-430f-bf7e-dfd780d8a71e",
   "metadata": {},
   "outputs": [],
   "source": []
  },
  {
   "cell_type": "code",
   "execution_count": null,
   "id": "e5ff560e-6346-4254-a358-9f440315377d",
   "metadata": {},
   "outputs": [],
   "source": []
  },
  {
   "cell_type": "code",
   "execution_count": null,
   "id": "07bf75d5-0edd-4536-adfa-cfcc6e8601e2",
   "metadata": {},
   "outputs": [],
   "source": []
  },
  {
   "cell_type": "code",
   "execution_count": null,
   "id": "d6651cb3-da0e-41ce-85af-d14cfc5e56e8",
   "metadata": {},
   "outputs": [],
   "source": []
  },
  {
   "cell_type": "code",
   "execution_count": null,
   "id": "1e6758ae-1691-40df-9dca-89628b20c312",
   "metadata": {},
   "outputs": [],
   "source": []
  },
  {
   "cell_type": "code",
   "execution_count": null,
   "id": "7c46d602-fcbc-45d0-a69b-15e6c5331b45",
   "metadata": {},
   "outputs": [],
   "source": []
  },
  {
   "cell_type": "code",
   "execution_count": null,
   "id": "6b22d21a-e1ee-4da2-9317-ffda1d52c3ea",
   "metadata": {},
   "outputs": [],
   "source": []
  },
  {
   "cell_type": "code",
   "execution_count": null,
   "id": "0ec982a2-efc1-47d1-bfbc-cceee15c7b71",
   "metadata": {},
   "outputs": [],
   "source": []
  },
  {
   "cell_type": "code",
   "execution_count": null,
   "id": "6eff051d-2031-4b99-9344-9337710f80d4",
   "metadata": {},
   "outputs": [],
   "source": []
  },
  {
   "cell_type": "code",
   "execution_count": null,
   "id": "285a5f8b-3fe0-4fcc-80d0-4cb207167821",
   "metadata": {},
   "outputs": [],
   "source": []
  },
  {
   "cell_type": "code",
   "execution_count": null,
   "id": "30ad0a00-93ee-41d7-8e60-7d4bfc831abc",
   "metadata": {},
   "outputs": [],
   "source": []
  },
  {
   "cell_type": "code",
   "execution_count": null,
   "id": "be18537e-adb9-4694-bf53-312c15b43697",
   "metadata": {},
   "outputs": [],
   "source": []
  }
 ],
 "metadata": {
  "kernelspec": {
   "display_name": "Python 3 (ipykernel)",
   "language": "python",
   "name": "python3"
  },
  "language_info": {
   "codemirror_mode": {
    "name": "ipython",
    "version": 3
   },
   "file_extension": ".py",
   "mimetype": "text/x-python",
   "name": "python",
   "nbconvert_exporter": "python",
   "pygments_lexer": "ipython3",
   "version": "3.11.9"
  }
 },
 "nbformat": 4,
 "nbformat_minor": 5
}
